{
 "cells": [
  {
   "cell_type": "code",
   "execution_count": 27,
   "id": "c4a02ef0",
   "metadata": {},
   "outputs": [
    {
     "name": "stdout",
     "output_type": "stream",
     "text": [
      "4500.0\n",
      "9000.0\n"
     ]
    }
   ],
   "source": [
    "class Employee:\n",
    "    # Create a data member to count the number of Employees\n",
    "    count = 0\n",
    "    \n",
    "    # Create a constructor to initialize name, family, salary, department\n",
    "    def __init__(self, name, family, salary, department):\n",
    "        self.name = name\n",
    "        self.family = family\n",
    "        self.salary = salary\n",
    "        self.department = department\n",
    "        Employee.count += 1\n",
    "    \n",
    "    # Create a function to average salary\n",
    "    def average_salary(self):\n",
    "        return self.salary / Employee.count\n",
    "\n",
    "# Create a Fulltime Employee class and it should inherit the properties of Employee class\n",
    "class FulltimeEmployee(Employee):\n",
    "    pass\n",
    "\n",
    "# Creating the instances of Fulltime Employee class and Employee class \n",
    "one = Employee(\"Pavan\", \"p\", 9000, \"DSA\")\n",
    "two = FulltimeEmployee(\"Sai\", \"p\", 18000, \"CS\")\n",
    "\n",
    "\n",
    "# Calling functions\n",
    "print(one.average_salary())\n",
    "print(two.average_salary())\n"
   ]
  },
  {
   "cell_type": "code",
   "execution_count": 29,
   "id": "09e40653",
   "metadata": {},
   "outputs": [
    {
     "name": "stdout",
     "output_type": "stream",
     "text": [
      " array after reshaping to (4,5) \n",
      "\n",
      "[[12.52797108  5.13023474 13.91764827 15.62742183  4.35926089]\n",
      " [19.53387992 16.94133624 17.11772187 15.51946295 15.35583766]\n",
      " [13.06949725 16.94749927 17.20299911 17.796826    4.77247232]\n",
      " [18.31814342  2.97224661  8.33593374  9.07594011  8.18583081]]\n",
      "\n",
      "\n",
      " replacing the maximum value in each row with 0  \n",
      "\n",
      "[[12.52797108  5.13023474 13.91764827  0.          4.35926089]\n",
      " [ 0.         16.94133624 17.11772187 15.51946295 15.35583766]\n",
      " [13.06949725 16.94749927 17.20299911  0.          4.77247232]\n",
      " [ 0.          2.97224661  8.33593374  9.07594011  8.18583081]]\n"
     ]
    }
   ],
   "source": [
    "import numpy as np\n",
    "\n",
    "# Generate a random vector of size 20 with float numbers between 1 and 20\n",
    "random_vector = np.random.uniform(1, 20, 20)\n",
    "\n",
    "\n",
    "# Reshape the array to 4 by 5\n",
    "reshaped_array = random_vector.reshape(4, 5)\n",
    "print(\" array after reshaping to (4,5) \\n\")\n",
    "print(reshaped_array)\n",
    "\n",
    "# Find the index of the maximum value in each row\n",
    "max_values = np.argmax(reshaped_array, axis=1)\n",
    "print(\"\\n\")\n",
    "# Replace the maximum value in each row with 0\n",
    "reshaped_array[np.arange(reshaped_array.shape[0]), max_values] = 0\n",
    "print(\" replacing the maximum value in each row with 0  \\n\")\n",
    "print(reshaped_array)"
   ]
  },
  {
   "cell_type": "code",
   "execution_count": null,
   "id": "a19d7f46",
   "metadata": {},
   "outputs": [],
   "source": []
  }
 ],
 "metadata": {
  "kernelspec": {
   "display_name": "Python 3 (ipykernel)",
   "language": "python",
   "name": "python3"
  },
  "language_info": {
   "codemirror_mode": {
    "name": "ipython",
    "version": 3
   },
   "file_extension": ".py",
   "mimetype": "text/x-python",
   "name": "python",
   "nbconvert_exporter": "python",
   "pygments_lexer": "ipython3",
   "version": "3.9.13"
  }
 },
 "nbformat": 4,
 "nbformat_minor": 5
}
