{
 "cells": [
  {
   "cell_type": "code",
   "execution_count": 1,
   "id": "d09cfe62",
   "metadata": {},
   "outputs": [
    {
     "ename": "TypeError",
     "evalue": "_argmax_dispatcher() got an unexpected keyword argument 'keepdims'",
     "output_type": "error",
     "traceback": [
      "\u001b[0;31m---------------------------------------------------------------------------\u001b[0m",
      "\u001b[0;31mTypeError\u001b[0m                                 Traceback (most recent call last)",
      "\u001b[0;32m/var/folders/0j/_k53x53s3d59lb52c3cz2lfr0000gn/T/ipykernel_8643/1463933343.py\u001b[0m in \u001b[0;36m<module>\u001b[0;34m\u001b[0m\n\u001b[1;32m      5\u001b[0m \u001b[0;34m\u001b[0m\u001b[0m\n\u001b[1;32m      6\u001b[0m \u001b[0;31m# Find the index of the maximum value in each row\u001b[0m\u001b[0;34m\u001b[0m\u001b[0;34m\u001b[0m\u001b[0m\n\u001b[0;32m----> 7\u001b[0;31m \u001b[0mmax_index\u001b[0m \u001b[0;34m=\u001b[0m \u001b[0mnp\u001b[0m\u001b[0;34m.\u001b[0m\u001b[0margmax\u001b[0m\u001b[0;34m(\u001b[0m\u001b[0mrandom_vector\u001b[0m\u001b[0;34m,\u001b[0m \u001b[0maxis\u001b[0m\u001b[0;34m=\u001b[0m\u001b[0;36m1\u001b[0m\u001b[0;34m,\u001b[0m \u001b[0mkeepdims\u001b[0m\u001b[0;34m=\u001b[0m\u001b[0;32mTrue\u001b[0m\u001b[0;34m)\u001b[0m\u001b[0;34m\u001b[0m\u001b[0;34m\u001b[0m\u001b[0m\n\u001b[0m\u001b[1;32m      8\u001b[0m \u001b[0;34m\u001b[0m\u001b[0m\n\u001b[1;32m      9\u001b[0m \u001b[0;31m# Replace the maximum value in each row with 0\u001b[0m\u001b[0;34m\u001b[0m\u001b[0;34m\u001b[0m\u001b[0m\n",
      "\u001b[0;32m<__array_function__ internals>\u001b[0m in \u001b[0;36margmax\u001b[0;34m(*args, **kwargs)\u001b[0m\n",
      "\u001b[0;31mTypeError\u001b[0m: _argmax_dispatcher() got an unexpected keyword argument 'keepdims'"
     ]
    }
   ],
   "source": [
    "import numpy as np\n",
    "\n",
    "# Generate a random vector of size 20 with float numbers between 1 and 20\n",
    "random_vector = np.random.uniform(1, 20, (4,5))\n",
    "\n",
    "# Find the index of the maximum value in each row\n",
    "max_index = np.argmax(random_vector, axis=1, keepdims=True)\n",
    "\n",
    "# Replace the maximum value in each row with 0\n",
    "random_vector[np.arange(random_vector.shape[0]), max_index] = 0"
   ]
  },
  {
   "cell_type": "code",
   "execution_count": 16,
   "id": "32b2118d",
   "metadata": {},
   "outputs": [
    {
     "name": "stdout",
     "output_type": "stream",
     "text": [
      "3\n",
      "3\n"
     ]
    }
   ],
   "source": [
    "class Employee:\n",
    "    # Create a data member to count the number of Employees\n",
    "    count = 0\n",
    "    \n",
    "    # Create a constructor to initialize name, family, salary, department\n",
    "    def __init__(self, name, family, salary, department):\n",
    "        self.name = name\n",
    "        self.family = family\n",
    "        self.salary = salary\n",
    "        self.department = department\n",
    "        Employee.count += 1\n",
    "    \n",
    "    # Create a function to average salary\n",
    "    def average_salary(self):\n",
    "        return self.salary / Employee.count\n",
    "\n",
    "# Create a Fulltime Employee class and it should inherit the properties of Employee class\n",
    "class FulltimeEmployee(Employee):\n",
    "    pass\n",
    "\n",
    "# Creating the instances of Fulltime Employee class and Employee class \n",
    "one = Employee(\"Pavan\", \"p\", 9000, \"DSA\")\n",
    "two = FulltimeEmployee(\"Sai\", \"p\", 18000, \"CS\")\n",
    "\n",
    "\n",
    "# Calling functions\n",
    "print(one.average_salary())\n",
    "print(two.average_salary())\n"
   ]
  },
  {
   "cell_type": "code",
   "execution_count": 9,
   "id": "15f040db",
   "metadata": {},
   "outputs": [
    {
     "name": "stdout",
     "output_type": "stream",
     "text": [
      "John\n",
      "36\n"
     ]
    }
   ],
   "source": [
    "class Employee:\n",
    "    count = 0\n",
    "    \n",
    "    def __init__(self, name, family, salary, department):\n",
    "        self.name = name\n",
    "        self.family = family\n",
    "        self.salary = salary\n",
    "        self.department = department\n",
    "        Employee.count += 1"
   ]
  },
  {
   "cell_type": "code",
   "execution_count": null,
   "id": "7ffb2254",
   "metadata": {},
   "outputs": [],
   "source": []
  }
 ],
 "metadata": {
  "kernelspec": {
   "display_name": "Python 3 (ipykernel)",
   "language": "python",
   "name": "python3"
  },
  "language_info": {
   "codemirror_mode": {
    "name": "ipython",
    "version": 3
   },
   "file_extension": ".py",
   "mimetype": "text/x-python",
   "name": "python",
   "nbconvert_exporter": "python",
   "pygments_lexer": "ipython3",
   "version": "3.9.13"
  }
 },
 "nbformat": 4,
 "nbformat_minor": 5
}
